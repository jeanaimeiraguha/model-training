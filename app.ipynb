{
 "cells": [
  {
   "cell_type": "code",
   "execution_count": 2,
   "id": "2014c84b",
   "metadata": {},
   "outputs": [
    {
     "name": "stdout",
     "output_type": "stream",
     "text": [
      "    Price\n",
      "0  255.47\n",
      "1  486.39\n",
      "2  373.61\n",
      "3  304.34\n",
      "4   46.28\n",
      "0    437.09\n",
      "1    955.64\n",
      "2    758.79\n",
      "3    638.79\n",
      "4    240.42\n",
      "Name: Sales, dtype: float64\n",
      "(50,)\n",
      "(50, 1)\n"
     ]
    }
   ],
   "source": [
    "import pandas as pd\n",
    "dataset = pd.read_excel('price_sales_data.xlsx')\n",
    "# print(dataset.head())\n",
    "x=dataset['Sales']\n",
    "y=dataset[['Price']]\n",
    "print(y.head())\n",
    "print(x.head())\n",
    "print(x.shape)\n",
    "print(y.shape)\n"
   ]
  }
 ],
 "metadata": {
  "kernelspec": {
   "display_name": "Python 3",
   "language": "python",
   "name": "python3"
  },
  "language_info": {
   "codemirror_mode": {
    "name": "ipython",
    "version": 3
   },
   "file_extension": ".py",
   "mimetype": "text/x-python",
   "name": "python",
   "nbconvert_exporter": "python",
   "pygments_lexer": "ipython3",
   "version": "3.13.1"
  }
 },
 "nbformat": 4,
 "nbformat_minor": 5
}
