{
 "cells": [
  {
   "cell_type": "code",
   "execution_count": 17,
   "id": "2014c84b",
   "metadata": {},
   "outputs": [
    {
     "name": "stdout",
     "output_type": "stream",
     "text": [
      "0    255.47\n",
      "1    486.39\n",
      "2    373.61\n",
      "3    304.34\n",
      "4     46.28\n",
      "Name: Price, dtype: float64\n",
      "0    437.09\n",
      "1    955.64\n",
      "2    758.79\n",
      "3    638.79\n",
      "4    240.42\n",
      "Name: Sales, dtype: float64\n",
      "(50,)\n",
      "(50,)\n",
      "(40,)\n",
      "(10,)\n",
      "(8,)\n",
      "0     255.47\n",
      "37     79.00\n",
      "46    236.04\n",
      "31    203.64\n",
      "41    290.69\n",
      "20    301.38\n",
      "35    454.88\n",
      "43    433.28\n",
      "7     492.64\n",
      "33    555.23\n",
      "9     280.48\n",
      "48    269.53\n",
      "49    158.85\n",
      "36    191.43\n",
      "5      84.21\n",
      "30    341.46\n",
      "29     38.65\n",
      "10     75.47\n",
      "22    126.15\n",
      "40     93.93\n",
      "18    260.94\n",
      "42    139.37\n",
      "16    144.95\n",
      "13    176.14\n",
      "6      53.11\n",
      "3     304.34\n",
      "26    136.25\n",
      "34    353.55\n",
      "11    467.21\n",
      "39    148.69\n",
      "21    103.49\n",
      "28    334.67\n",
      "Name: Price, dtype: float64\n"
     ]
    }
   ],
   "source": [
    "import pandas as pd\n",
    "from sklearn.model_selection import train_test_split\n",
    "from sklearn.linear_model import LinearRegression\n",
    "\n",
    "dataset = pd.read_excel('price_sales_data.xlsx')\n",
    "\n",
    "X = dataset['Price']\n",
    "y = dataset['Sales']    \n",
    "print(X.head())\n",
    "print(y.head())\n",
    "print(X.shape)\n",
    "print(y.shape)\n",
    "\n",
    "X_temp, X_test, y_temp, y_test = train_test_split(X, y, test_size=0.2, random_state=20)\n",
    "print(X_temp.shape)\n",
    "print(X_test.shape)\n",
    "x_train ,X_val, y_train, y_val = train_test_split(X_temp, y_temp, test_size=0.2, random_state=20)\n",
    "print(X_val.shape)\n",
    "model = LinearRegression()\n",
    "\n",
    "model.fit(x_train.values.reshape(-1, 1), y_train)\n",
    "print(x_train)"
   ]
  },
  {
   "cell_type": "code",
   "execution_count": null,
   "id": "bcc1f205",
   "metadata": {},
   "outputs": [],
   "source": []
  }
 ],
 "metadata": {
  "kernelspec": {
   "display_name": "Python 3",
   "language": "python",
   "name": "python3"
  },
  "language_info": {
   "codemirror_mode": {
    "name": "ipython",
    "version": 3
   },
   "file_extension": ".py",
   "mimetype": "text/x-python",
   "name": "python",
   "nbconvert_exporter": "python",
   "pygments_lexer": "ipython3",
   "version": "3.13.1"
  }
 },
 "nbformat": 4,
 "nbformat_minor": 5
}
